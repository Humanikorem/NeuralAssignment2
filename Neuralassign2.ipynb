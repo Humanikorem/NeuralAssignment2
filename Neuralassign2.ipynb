{
 "cells": [
  {
   "cell_type": "code",
   "execution_count": 5,
   "metadata": {},
   "outputs": [
    {
     "name": "stdout",
     "output_type": "stream",
     "text": [
      "Full Name: Humani Korem\n"
     ]
    }
   ],
   "source": [
    "def fullname(first_name,last_name):\n",
    "    return first_name + \" \" + last_name\n",
    "first_name=\"Humani\"\n",
    "last_name=\"Korem\"\n",
    "print(\"Full Name:\",fullname(first_name,last_name))"
   ]
  },
  {
   "cell_type": "code",
   "execution_count": 7,
   "metadata": {},
   "outputs": [
    {
     "name": "stdout",
     "output_type": "stream",
     "text": [
      "Heights in inches: [150, 155, 145, 148]\n",
      "Heights in centimeters: [381.0, 393.7, 368.3, 375.92]\n"
     ]
    }
   ],
   "source": [
    "heights = [150,155,145,148] # sample list of heights in inches\n",
    "centimeters = [round(height * 2.54, 2) for height in heights] # convert each heught in inches to centimeters\n",
    "print(\"Heights in inches:\", heights)\n",
    "print(\"Heights in centimeters:\", centimeters)"
   ]
  },
  {
   "cell_type": "code",
   "execution_count": 4,
   "metadata": {},
   "outputs": [
    {
     "name": "stdout",
     "output_type": "stream",
     "text": [
      "Go vnn\n"
     ]
    }
   ],
   "source": [
    "def str_alternative(Str):\n",
    "    return Str[::2]\n",
    "print(str_alternative(\"Good evening\"))"
   ]
  },
  {
   "cell_type": "code",
   "execution_count": 3,
   "metadata": {},
   "outputs": [],
   "source": [
    "text = open(\"input.txt\", \"r\")\n",
    "d = dict()\n",
    "for line in text:\n",
    "    line = line.strip()\n",
    "    line = line.lower()\n",
    "    words = line.split(\" \")\n",
    "    for word in words:\n",
    "        if word in d:\n",
    "            d[word] = d[word] + 1\n",
    "        else:\n",
    "            d[word] = 1\n",
    "file1 = open('output.txt', 'w')\n",
    "s=\"\"\n",
    "for key in list(d.keys()):\n",
    "    s += key+ \":\" + str(d[key])+ \"\\n\"\n",
    "file1.write(s)\n",
    "file1.close()            \n"
   ]
  },
  {
   "cell_type": "code",
   "execution_count": 4,
   "metadata": {},
   "outputs": [
    {
     "name": "stdout",
     "output_type": "stream",
     "text": [
      "Heights in inches: [150, 155, 145, 148]\n",
      "Heigths in centimeters: [381.0, 393.7, 368.3, 375.92]\n"
     ]
    }
   ],
   "source": [
    "heights = [150, 155, 145, 148]\n",
    "centimeters = []\n",
    "\n",
    "for height in heights:\n",
    "    cm = height * 2.54\n",
    "    centimeters.append(cm)\n",
    "    \n",
    "print(\"Heights in inches:\", heights)\n",
    "print(\"Heigths in centimeters:\", centimeters)    "
   ]
  }
 ],
 "metadata": {
  "kernelspec": {
   "display_name": "Python 3",
   "language": "python",
   "name": "python3"
  },
  "language_info": {
   "codemirror_mode": {
    "name": "ipython",
    "version": 3
   },
   "file_extension": ".py",
   "mimetype": "text/x-python",
   "name": "python",
   "nbconvert_exporter": "python",
   "pygments_lexer": "ipython3",
   "version": "3.11.2"
  }
 },
 "nbformat": 4,
 "nbformat_minor": 2
}
